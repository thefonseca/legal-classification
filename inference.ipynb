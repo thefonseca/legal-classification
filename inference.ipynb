{
 "cells": [
  {
   "cell_type": "code",
   "execution_count": 1,
   "metadata": {
    "collapsed": true
   },
   "outputs": [],
   "source": [
    "%reload_ext autoreload\n",
    "%autoreload 1\n",
    "\n",
    "%aimport dataset\n",
    "\n",
    "import numpy as np\n",
    "import pandas as pd\n",
    "import requests\n",
    "from readability import Document\n",
    "from sklearn.externals import joblib\n",
    "from IPython.display import display"
   ]
  },
  {
   "cell_type": "code",
   "execution_count": 2,
   "metadata": {
    "collapsed": false
   },
   "outputs": [
    {
     "name": "stdout",
     "output_type": "stream",
     "text": [
      "Modelo treinado para 39 temas\n"
     ]
    }
   ],
   "source": [
    "clf = joblib.load('models/bag-of-words-all-classes.pkl')\n",
    "temas = pd.read_csv('models/temas.csv')\n",
    "print('Modelo treinado para {} temas'.format(temas.shape[0]))"
   ]
  },
  {
   "cell_type": "code",
   "execution_count": 3,
   "metadata": {
    "collapsed": true
   },
   "outputs": [],
   "source": [
    "#os.environ['http_proxy'] = \"http://127.0.0.1:3128\" \n",
    "#os.environ['https_proxy'] = \"https://127.0.0.1:3128\"\n",
    "\n",
    "def get_text_from_url(url):\n",
    "    '''\n",
    "    Get most significant text returned from URL\n",
    "    '''\n",
    "    response = requests.get(url)\n",
    "    doc = Document(response.text)\n",
    "    text = dataset.preprocess_html(doc.summary())\n",
    "    return text\n",
    "\n",
    "def inference(clf, labels, text, top_k=3):\n",
    "    '''\n",
    "    Returns top_k labels for text.\n",
    "    '''\n",
    "    vectorizer = clf.named_steps['tfidf']\n",
    "    tfidf = vectorizer.transform([text])\n",
    "    probs = clf.named_steps['clf'].predict_proba(tfidf)\n",
    "    \n",
    "    preds = np.argsort(probs, axis=1)[0,-top_k:][::-1]\n",
    "    probs = probs[:, preds][0]\n",
    "    pred_labels = list(map(lambda x: labels[labels.CLASS == x].TEMA.values[0], preds))\n",
    "    preds_df = pd.DataFrame({'LABEL': pred_labels, 'PROBABILITY': probs})\n",
    "    \n",
    "    #if verbose:\n",
    "    print(preds_df)\n",
    "    \n",
    "    terms_df = top_terms(tfidf, vectorizer.get_feature_names())\n",
    "    print('\\n\\n')\n",
    "    print(terms_df)\n",
    "    \n",
    "    return preds_df, terms_df\n",
    "\n",
    "def inference_url(clf, labels, url, top_k=3, verbose=False):\n",
    "    text = get_text_from_url(url)\n",
    "    if verbose:\n",
    "        print('Text:\\n\\n{}\\n'.format(text))\n",
    "    return inference(clf, labels, text, top_k)\n",
    "\n",
    "def top_tfidf_feats(row, features, top_k=10):\n",
    "    ''' Get top n tfidf values in row and return them with their corresponding feature names.'''\n",
    "    topn_ids = np.argsort(row)[::-1][:top_k]\n",
    "    top_feats = [(features[i], row[i]) for i in topn_ids]\n",
    "    df = pd.DataFrame(top_feats)\n",
    "    df.columns = ['TOP TERMS', 'TF_IDF SCORE']\n",
    "    return df\n",
    "\n",
    "def top_terms(doc, features, top_k=10):\n",
    "    ''' Top tfidf features in specific document (matrix row) '''\n",
    "    row = np.squeeze(doc.toarray())\n",
    "    return top_tfidf_feats(row, features, top_k)"
   ]
  },
  {
   "cell_type": "markdown",
   "metadata": {},
   "source": [
    "### Classificação de normas"
   ]
  },
  {
   "cell_type": "code",
   "execution_count": 4,
   "metadata": {
    "collapsed": false,
    "scrolled": true
   },
   "outputs": [
    {
     "name": "stdout",
     "output_type": "stream",
     "text": [
      "                              LABEL  PROBABILITY\n",
      "0             Administração Pública     0.646957\n",
      "1  Previdência e Assistência Social     0.158658\n",
      "2  Direito Penal e Processual Penal     0.032886\n",
      "\n",
      "\n",
      "\n",
      "     TOP TERMS  TF_IDF SCORE\n",
      "0     servidor      0.376633\n",
      "1           ou      0.271193\n",
      "2        cargo      0.175954\n",
      "3           ss      0.155810\n",
      "4      licenca      0.142387\n",
      "5         sera      0.139701\n",
      "6  do servidor      0.121269\n",
      "7          por      0.099847\n",
      "8           se      0.095868\n",
      "9           ao      0.094658\n",
      "Wall time: 4.74 s\n"
     ]
    }
   ],
   "source": [
    "%%time\n",
    "preds = inference_url(clf, temas, 'http://www2.camara.leg.br/legin/fed/lei/1990/lei-8112-11-dezembro-1990-322161-publicacaooriginal-1-pl.html', verbose=False)"
   ]
  },
  {
   "cell_type": "markdown",
   "metadata": {},
   "source": [
    "### Classificação de notícias"
   ]
  },
  {
   "cell_type": "code",
   "execution_count": 5,
   "metadata": {
    "collapsed": false
   },
   "outputs": [
    {
     "name": "stdout",
     "output_type": "stream",
     "text": [
      "Text:\n",
      "\n",
      "A comissao especial que analisa a proposta (PEC 15/15) que torna permanente o Fundo de Manutencao e Desenvolvimento da Educacao Basica e Valorizacao dos Profissionais da Educacao (Fundeb) promove audiencia publica nesta manha para discutir sugestoes de aprimoramento do texto e medidas de cooperacao entre os entes federados no setor educacional.\n",
      "\n",
      "Criado em 2006 para vigorar ate 2020, o Fundeb e um fundo que utiliza recursos federais, dos estados, Distrito Federal e municipios para financiar a educacao basica no Pais, incluindo a remuneracao dos professores.\n",
      "O evento e uma iniciativa da relatora da PEC, deputada Professora Dorinha Seabra Rezende (DEM-TO). Segundo ela, com o fim da vigencia do fundo se aproximando e urgente debater o assunto.\n",
      "Foram convidados para a reuniao: o vice-presidente da Frente Nacional de Prefeitos (FNP), Elias Dinis; e o gestor do Observatorio de Informacoes Municipais, Francois Eugene Jean de Bremaeker.\n",
      "A audiencia sera realizada no plenario 9, a partir das 11 horas, e podera ser acompanhada ao vivo pelo WebCamara.\n",
      "\n",
      "\n",
      "\t\t\t\t\t\n",
      "\n",
      "                     LABEL  PROBABILITY\n",
      "0                 Educação     0.238978\n",
      "1    Administração Pública     0.061612\n",
      "2  Relações Internacionais     0.060914\n",
      "\n",
      "\n",
      "\n",
      "          TOP TERMS  TF_IDF SCORE\n",
      "0               pec      0.200720\n",
      "1            fundeb      0.162129\n",
      "2   educacao basica      0.133728\n",
      "3         audiencia      0.125704\n",
      "4          francois      0.115467\n",
      "5       aproximando      0.115467\n",
      "6           jean de      0.115467\n",
      "7          relatora      0.115467\n",
      "8  torna permanente      0.115467\n",
      "9            eugene      0.115467\n",
      "Wall time: 4.32 s\n"
     ]
    }
   ],
   "source": [
    "%%time\n",
    "preds, terms = inference_url(clf, temas, 'http://www2.camara.leg.br/camaranoticias/noticias/538631.html', verbose=True)\n",
    "#top_terms(tfidf, vectorizer.get_feature_names())"
   ]
  },
  {
   "cell_type": "code",
   "execution_count": 6,
   "metadata": {
    "collapsed": false
   },
   "outputs": [
    {
     "name": "stdout",
     "output_type": "stream",
     "text": [
      "Text:\n",
      "\n",
      "  Temer diz que governo estuda aumento da aliquota do IR, mas que ainda nao ha 'nada decidido'   'Ha estudos, dos mais variados estudos', disse em evento em Sao Paulo. Medidas precisam ser aprovadas pelo Congresso.              Temer diz que governo estuda aumento da aliquota do IR, mas que ainda nao ha 'nada decidi        O presidente Michel Temer (PMDB) afirmou nesta terca-feira (8) que ha estudos sendo feitos para o aumento da aliquota do Imposto de Renda (IR), mas que nao ha nada definido. A equipe economica quer aumentar a arrecadacao - ate junho, o deficit das contas do governo era de R$ 56,092 bilhoes.     \"Ha estudos, ha dos mais variados estudos. Sao estudos que se fazem rotineiramente. A todo momento estao fazendo planejamento nos setores da economia, eles fazem esses estudos. Sao estudos que estao sendo feitos, mas nada decidido\", disse o presidente apos cerimonia de abertura da Fenabrave em Sao Paulo.     Parte da equipe economica decidiu tirar da gaveta projetos de aumentos de impostos. As acoes vao desde criar uma nova aliquota de Imposto de Renda para as pessoas fisicas (que poderia chegar a 35%), passar a cobrar IR sobre lucros e dividendos e ate rever desoneracoes. As medidas precisam ser aprovadas pelo Congresso por meio de projeto de lei e teriam efeito sobre as contas de 2018.     De acordo com o jornal \"O Globo\", ha pouco folego do presidente para conseguir concretizar medidas impopulares como essa, e a que teria \"maior potencial de arrecadacao seria a instituicao de uma tributacao sobre lucros e dividendos, superando R$ 10 bilhoes\".     No mesmo evento, o presidente da Camara dos Deputados, Rodrigo Maia (DEM), falou que \"o Brasil nao aguenta mais pagar impostos\". \"O Brasil nao aguenta mais a ineficiencia do estado brasileiro. O Brasil precisa que todos nos, juntos, tenhamos a coragem de reconstruir todos os males que foram feitos nos ultimos anos\", disse.    Medidas que voltaram a mesa de discussao:   Criacao de uma nova aliquota de imposto de renda para pessoa fisica - que poderia variar de 30% a 35% para salarios acima de R$ 20 mil Cobranca de Imposto sobre os Dividendos - os rendimentos de empresas que declaram sobre o lucro presumidoRevisao de desoneracoesRegimes especiais, como o reintegra, que concentra os beneficios em um pequeno numero de empresas                Temer cercado pelo presidente da Camara, Rodrigo Maia, e pelo governador de Sao Paulo, Geraldo Alckmin (Foto: Alan Santos/Presidencia da Republica)          Em discurso na cerimonia de abertura do 27o Congresso & ExpoFenabrave, na capital paulista, o presidente afirmou que aprovar a reforma neste momento e uma maneira de assegurar que havera aposentadorias sociais no futuro.     \"Fazer a Previdencia reformada hoje e ter Previdencia para o futuro. E prever o futuro. Esta e a ideia da Previdencia. Ou seja, em um pais em que este ano o deficit previdenciario e de R$ 184 bilhoes e, no ano que vem, de R$ 205 bilhoes, se nos nao fizermos essa reforma, sera dificilimo enfrentar os proximos anos\", ressaltou Temer no evento organizado pela federacao dos bancos para discutir tecnologia da informacao das instituicoes financeiras.     Rodrigo Maia (DEM-RJ) tambem defendeu as mudancas - ele disse em discurso que o \"coracao das reformas\" que o pais precisa e a da Previdencia e que so ela podera \"acabar com os privilegios\".     \"E por isso que eu tenho defendido com muita clareza que o coracao de todas as reformas e a reforma da Previdencia. Nao porque nenhum de nos queira ou porque nos estamos tirando o direito do trabalhador brasileiro, mas nos precisamos acabar com os privilegios no Brasil\", disse. \"Os privilegios, tanto do setor publico quanto do setor privado, que nos sabemos, se beneficiam do estado brasileiro, e nao querem mudancas\", completou Maia.      Maia tambem criticou o que chamou de \"ineficiencia do estado brasileiro\" e afirmou que o pais \"nao aguenta mais pagar impostos\". Ele defendeu que apos a reforma tributaria se diminua o tamanho do estado.     \"Esse tem que ser o objetivo dos politicos no Brasil: reduzir o tamanho do estado, garantir seguranca juridica para que voces (empresarios) possam produzir e gerar emprego pra populacao brasileira\", declarou.    \n",
      "\n",
      "                     LABEL  PROBABILITY\n",
      "0               Tributação     0.127870\n",
      "1  Relações Internacionais     0.104859\n",
      "2     Viação e Transportes     0.049618\n",
      "\n",
      "\n",
      "\n",
      "  TOP TERMS  TF_IDF SCORE\n",
      "0     disse      0.200537\n",
      "1        ha      0.141243\n",
      "2   estudos      0.136540\n",
      "3      maia      0.134054\n",
      "4   afirmou      0.131234\n",
      "5   ha nada      0.131234\n",
      "6     temer      0.129912\n",
      "7        ir      0.119939\n",
      "8   rodrigo      0.113381\n",
      "9  aliquota      0.102192\n"
     ]
    }
   ],
   "source": [
    "preds = inference_url(clf, temas, 'http://g1.globo.com/sao-paulo/noticia/temer-diz-que-governo-estuda-aumento-da-aliquota-do-ir-mas-que-ainda-nao-ha-nada-decidido.ghtml', verbose=True)"
   ]
  },
  {
   "cell_type": "code",
   "execution_count": 24,
   "metadata": {
    "collapsed": false
   },
   "outputs": [
    {
     "name": "stdout",
     "output_type": "stream",
     "text": [
      "                                    Label  Probability\n",
      "0  Direitos Humanos, Minorias e Cidadania     0.440917\n",
      "1                   Administração Pública     0.043851\n",
      "2                    Processo Legislativo     0.042497\n",
      "\n",
      "\n",
      "\n",
      "         top terms  tf-idf score\n",
      "0  com deficiencia      0.339010\n",
      "1      deficiencia      0.327722\n",
      "2      pessoas com      0.182542\n",
      "3   envelhecimento      0.171066\n",
      "4       pessoa com      0.167184\n",
      "5            idosa      0.152612\n",
      "6         deputada      0.144467\n",
      "7       tipicas do      0.132910\n",
      "8          50 anos      0.132910\n",
      "9         relatora      0.132910\n",
      "Wall time: 4.45 s\n"
     ]
    }
   ],
   "source": [
    "%%time\n",
    "preds = inference_url(clf, temas, 'http://www2.camara.leg.br/camaranoticias/noticias/DIREITOS-HUMANOS/538744-COMISSAO-REDUZ-IDADE-PARA-PESSOA-COM-DEFICIENCIA-SER-DECLARADA-IDOSA.html', verbose=False)"
   ]
  },
  {
   "cell_type": "code",
   "execution_count": 25,
   "metadata": {
    "collapsed": false
   },
   "outputs": [
    {
     "name": "stdout",
     "output_type": "stream",
     "text": [
      "                     Label  Probability\n",
      "0       Trabalho e Emprego     0.601329\n",
      "1    Administração Pública     0.037124\n",
      "2  Relações Internacionais     0.032458\n",
      "\n",
      "\n",
      "\n",
      "               top terms  tf-idf score\n",
      "0           duas emendas      0.237887\n",
      "1                   piso      0.183349\n",
      "2          piso salarial      0.151964\n",
      "3  regulamenta profissao      0.130203\n",
      "4                afirmou      0.125221\n",
      "5        acrescimo sobre      0.125221\n",
      "6                emendas      0.119785\n",
      "7                 de 811      0.116703\n",
      "8                  texto      0.115865\n",
      "9         texto aprovado      0.108186\n",
      "Wall time: 4.49 s\n"
     ]
    }
   ],
   "source": [
    "%%time\n",
    "preds = inference_url(clf, temas, 'http://www2.camara.leg.br/camaranoticias/noticias/TRABALHO-E-PREVIDENCIA/538706-COMISSAO-DE-TRABALHO-APROVA-A-REGULAMENTACAO-DA-PROFISSAO-DE-GARCOM-COM-PISO-SALARIAL-DE-R$-2.811.html', verbose=False)"
   ]
  }
 ],
 "metadata": {
  "kernelspec": {
   "display_name": "Python (tensorflow)",
   "language": "python",
   "name": "tensorflow"
  },
  "language_info": {
   "codemirror_mode": {
    "name": "ipython",
    "version": 3
   },
   "file_extension": ".py",
   "mimetype": "text/x-python",
   "name": "python",
   "nbconvert_exporter": "python",
   "pygments_lexer": "ipython3",
   "version": "3.5.2"
  }
 },
 "nbformat": 4,
 "nbformat_minor": 2
}
