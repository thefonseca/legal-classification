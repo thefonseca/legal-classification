{
 "cells": [
  {
   "cell_type": "markdown",
   "metadata": {},
   "source": [
    "# Modelos pré-treinados pra classificação de normas"
   ]
  },
  {
   "cell_type": "code",
   "execution_count": 1,
   "metadata": {
    "collapsed": true
   },
   "outputs": [],
   "source": [
    "%reload_ext autoreload\n",
    "%autoreload 1\n",
    "\n",
    "%aimport dataset\n",
    "\n",
    "import numpy as np\n",
    "import pandas as pd\n",
    "import requests\n",
    "from readability import Document\n",
    "from sklearn.externals import joblib"
   ]
  },
  {
   "cell_type": "markdown",
   "metadata": {},
   "source": [
    "### Download dos arquivos do modelo"
   ]
  },
  {
   "cell_type": "code",
   "execution_count": 2,
   "metadata": {
    "collapsed": false
   },
   "outputs": [
    {
     "name": "stdout",
     "output_type": "stream",
     "text": [
      "Attempting to download: bag-of-words-all-classes.zip\n"
     ]
    },
    {
     "name": "stderr",
     "output_type": "stream",
     "text": [
      "Downloading file...: 397MB [07:02, 938KB/s]                                    \n"
     ]
    },
    {
     "name": "stdout",
     "output_type": "stream",
     "text": [
      "\n",
      "Download Complete!\n",
      "Found and verified models\\bag-of-words-all-classes.zip\n",
      "Attempting to download: temas.csv\n"
     ]
    },
    {
     "name": "stderr",
     "output_type": "stream",
     "text": [
      "Downloading file...: 8.19KB [00:01, 4.37KB/s]\n"
     ]
    },
    {
     "name": "stdout",
     "output_type": "stream",
     "text": [
      "\n",
      "Download Complete!\n",
      "Found and verified models\\temas.csv\n",
      "File extracted to: models\\bag-of-words-all-classes.pkl\n"
     ]
    }
   ],
   "source": [
    "url_model = 'https://www.dropbox.com/s/sgbcxtlxc85il3q/{}?dl=1'\n",
    "url_labels = 'https://www.dropbox.com/s/enq14ig757pw2e6/{}?dl=1'\n",
    "data_root = 'models'\n",
    "\n",
    "clf_zip = dataset.maybe_download(url_model, 'bag-of-words-all-classes.zip', 396919561, data_root=data_root)\n",
    "temas_filename = dataset.maybe_download(url_labels, 'temas.csv', 1227, data_root=data_root)\n",
    "clf_filename = dataset.extract_zip(clf_zip)"
   ]
  },
  {
   "cell_type": "markdown",
   "metadata": {},
   "source": [
    "### Carregando modelo treinado"
   ]
  },
  {
   "cell_type": "code",
   "execution_count": 3,
   "metadata": {
    "collapsed": false
   },
   "outputs": [
    {
     "name": "stdout",
     "output_type": "stream",
     "text": [
      "Modelo treinado para 39 temas\n"
     ]
    }
   ],
   "source": [
    "clf = joblib.load(clf_filename)\n",
    "temas = pd.read_csv('models/temas.csv')\n",
    "print('Modelo treinado para {} temas'.format(temas.shape[0]))"
   ]
  },
  {
   "cell_type": "code",
   "execution_count": 11,
   "metadata": {
    "collapsed": true
   },
   "outputs": [],
   "source": [
    "#os.environ['http_proxy'] = \"http://127.0.0.1:3128\" \n",
    "#os.environ['https_proxy'] = \"https://127.0.0.1:3128\"\n",
    "\n",
    "def get_text_from_url(url):\n",
    "    '''\n",
    "    Get most significant text returned from URL.\n",
    "    '''\n",
    "    response = requests.get(url)\n",
    "    doc = Document(response.text)\n",
    "    text = dataset.preprocess_html(doc.summary())\n",
    "    return text\n",
    "\n",
    "\n",
    "def predict_labels(clf, labels, text, top_k=3):\n",
    "    '''\n",
    "    Returns top_k labels for text.\n",
    "    '''\n",
    "    vectorizer = clf.named_steps['tfidf']\n",
    "    tfidf = vectorizer.transform([text])\n",
    "    probs = clf.named_steps['clf'].predict_proba(tfidf)\n",
    "    \n",
    "    preds = np.argsort(probs, axis=1)[0,-top_k:][::-1]\n",
    "    probs = probs[:, preds][0]\n",
    "    pred_labels = list(map(lambda x: labels[labels.CLASS == x].TEMA.values[0], preds))\n",
    "    preds_df = pd.DataFrame({'LABEL': pred_labels, 'PROBABILITY': probs})\n",
    "    \n",
    "    #if verbose:\n",
    "    print(preds_df, '\\n')\n",
    "    return preds_df\n",
    "\n",
    "\n",
    "def predict_labels_url(clf, labels, url, top_k=3, verbose=False):\n",
    "    text = get_text_from_url(url)\n",
    "    if verbose:\n",
    "        print('Text:\\n\\n{}\\n'.format(text))\n",
    "    return predict_labels(clf, labels, text, top_k), text\n",
    "\n",
    "\n",
    "def top_tfidf_feats(row, features, top_k=10):\n",
    "    ''' Get top n tfidf values in row and return them with their corresponding feature names.'''\n",
    "    topn_ids = np.argsort(row)[::-1][:top_k]\n",
    "    top_feats = [(features[i], row[i]) for i in topn_ids]\n",
    "    df = pd.DataFrame(top_feats)\n",
    "    df.columns = ['TOP TERMS', 'TF_IDF SCORE']\n",
    "    return df\n",
    "\n",
    "\n",
    "def top_terms(clf, text, top_k=10):\n",
    "    ''' Top tfidf features in specific document (matrix row) '''\n",
    "    \n",
    "    vectorizer = clf.named_steps['tfidf']\n",
    "    tfidf = vectorizer.transform([text])    \n",
    "    row = np.squeeze(tfidf.toarray())\n",
    "    return top_tfidf_feats(row, vectorizer.get_feature_names(), top_k)\n",
    "\n",
    "\n",
    "def top_terms_url(clf, url, top_k=10, verbose=False):\n",
    "    text = get_text_from_url(url)\n",
    "    if verbose:\n",
    "        print('Text:\\n\\n{}\\n'.format(text))\n",
    "    return top_terms(clf, text, top_k), text"
   ]
  },
  {
   "cell_type": "markdown",
   "metadata": {},
   "source": [
    "### Classificação de normas"
   ]
  },
  {
   "cell_type": "code",
   "execution_count": 13,
   "metadata": {
    "collapsed": false,
    "scrolled": false
   },
   "outputs": [
    {
     "name": "stdout",
     "output_type": "stream",
     "text": [
      "                              LABEL  PROBABILITY\n",
      "0             Administração Pública     0.646957\n",
      "1  Previdência e Assistência Social     0.158658\n",
      "2  Direito Penal e Processual Penal     0.032886 \n",
      "\n",
      "Wall time: 903 ms\n",
      "Wall time: 3.77 s\n",
      "\n",
      "\n",
      "\n",
      "     TOP TERMS  TF_IDF SCORE\n",
      "0     servidor      0.376633\n",
      "1           ou      0.271193\n",
      "2        cargo      0.175954\n",
      "3           ss      0.155810\n",
      "4      licenca      0.142387\n",
      "5         sera      0.139701\n",
      "6  do servidor      0.121269\n",
      "7          por      0.099847\n",
      "8           se      0.095868\n",
      "9           ao      0.094658\n"
     ]
    }
   ],
   "source": [
    "url = 'http://www2.camara.leg.br/legin/fed/lei/1990/lei-8112-11-dezembro-1990-322161-publicacaooriginal-1-pl.html'\n",
    "%time preds, text = predict_labels_url(clf, temas, url)\n",
    "%time terms = top_terms(clf, text)\n",
    "print('\\n\\n')\n",
    "print(terms)"
   ]
  },
  {
   "cell_type": "code",
   "execution_count": 14,
   "metadata": {
    "collapsed": false
   },
   "outputs": [
    {
     "name": "stdout",
     "output_type": "stream",
     "text": [
      "                                  LABEL  PROBABILITY\n",
      "0  Organização Administrativa do Estado     0.437761\n",
      "1                 Administração Pública     0.367108\n",
      "2                  Ciência e Tecnologia     0.104777 \n",
      "\n",
      "Wall time: 655 ms\n",
      "Wall time: 3.77 s\n",
      "\n",
      "\n",
      "\n",
      "                      TOP TERMS  TF_IDF SCORE\n",
      "0                     inovacoes      0.246960\n",
      "1                    da ciencia      0.153009\n",
      "2                        gestao      0.152558\n",
      "3                    tecnologia      0.152340\n",
      "4        desenvolvimento gestao      0.152133\n",
      "5                  comunicacoes      0.151626\n",
      "6            ciencia tecnologia      0.151108\n",
      "7                    ministerio      0.132678\n",
      "8  planejamento desenvolvimento      0.132676\n",
      "9                  diretoria de      0.126855\n"
     ]
    }
   ],
   "source": [
    "url = 'http://www2.camara.leg.br/legin/fed/decret/2017/decreto-9060-26-maio-2017-784946-publicacaooriginal-152840-pe.html'\n",
    "%time preds, text = predict_labels_url(clf, temas, url)\n",
    "%time terms = top_terms(clf, text)\n",
    "print('\\n\\n')\n",
    "print(terms)"
   ]
  },
  {
   "cell_type": "markdown",
   "metadata": {},
   "source": [
    "### Classificação de notícias"
   ]
  },
  {
   "cell_type": "code",
   "execution_count": 16,
   "metadata": {
    "collapsed": false
   },
   "outputs": [
    {
     "name": "stdout",
     "output_type": "stream",
     "text": [
      "Text:\n",
      "\n",
      "A comissao especial que analisa a proposta (PEC 15/15) que torna permanente o Fundo de Manutencao e Desenvolvimento da Educacao Basica e Valorizacao dos Profissionais da Educacao (Fundeb) promove audiencia publica nesta manha para discutir sugestoes de aprimoramento do texto e medidas de cooperacao entre os entes federados no setor educacional.\n",
      "\n",
      "Criado em 2006 para vigorar ate 2020, o Fundeb e um fundo que utiliza recursos federais, dos estados, Distrito Federal e municipios para financiar a educacao basica no Pais, incluindo a remuneracao dos professores.\n",
      "O evento e uma iniciativa da relatora da PEC, deputada Professora Dorinha Seabra Rezende (DEM-TO). Segundo ela, com o fim da vigencia do fundo se aproximando e urgente debater o assunto.\n",
      "Foram convidados para a reuniao: o vice-presidente da Frente Nacional de Prefeitos (FNP), Elias Dinis; e o gestor do Observatorio de Informacoes Municipais, Francois Eugene Jean de Bremaeker.\n",
      "A audiencia sera realizada no plenario 9, a partir das 11 horas, e podera ser acompanhada ao vivo pelo WebCamara.\n",
      "\n",
      "\n",
      "\t\t\t\t\t\n",
      "\n",
      "                     LABEL  PROBABILITY\n",
      "0                 Educação     0.238978\n",
      "1    Administração Pública     0.061612\n",
      "2  Relações Internacionais     0.060914 \n",
      "\n",
      "Wall time: 830 ms\n",
      "Wall time: 3.98 s\n",
      "\n",
      "\n",
      "\n",
      "          TOP TERMS  TF_IDF SCORE\n",
      "0               pec      0.200720\n",
      "1            fundeb      0.162129\n",
      "2   educacao basica      0.133728\n",
      "3         audiencia      0.125704\n",
      "4          francois      0.115467\n",
      "5       aproximando      0.115467\n",
      "6           jean de      0.115467\n",
      "7          relatora      0.115467\n",
      "8  torna permanente      0.115467\n",
      "9            eugene      0.115467\n"
     ]
    }
   ],
   "source": [
    "url = 'http://www2.camara.leg.br/camaranoticias/noticias/538631.html'\n",
    "%time preds, text = predict_labels_url(clf, temas, url, verbose=True)\n",
    "%time terms = top_terms(clf, text)\n",
    "print('\\n\\n')\n",
    "print(terms)"
   ]
  },
  {
   "cell_type": "code",
   "execution_count": 17,
   "metadata": {
    "collapsed": false
   },
   "outputs": [
    {
     "name": "stdout",
     "output_type": "stream",
     "text": [
      "Text:\n",
      "\n",
      "  Temer diz que governo estuda aumento da aliquota do IR, mas que ainda nao ha 'nada decidido'   'Ha estudos, dos mais variados estudos', disse em evento em Sao Paulo. Medidas precisam ser aprovadas pelo Congresso.              Temer diz que governo estuda aumento da aliquota do IR, mas que ainda nao ha 'nada decidi        O presidente Michel Temer (PMDB) afirmou nesta terca-feira (8) que ha estudos sendo feitos para o aumento da aliquota do Imposto de Renda (IR), mas que nao ha nada definido. A equipe economica quer aumentar a arrecadacao - ate junho, o deficit das contas do governo era de R$ 56,092 bilhoes.     \"Ha estudos, ha dos mais variados estudos. Sao estudos que se fazem rotineiramente. A todo momento estao fazendo planejamento nos setores da economia, eles fazem esses estudos. Sao estudos que estao sendo feitos, mas nada decidido\", disse o presidente apos cerimonia de abertura da Fenabrave em Sao Paulo.     Parte da equipe economica decidiu tirar da gaveta projetos de aumentos de impostos. As acoes vao desde criar uma nova aliquota de Imposto de Renda para as pessoas fisicas (que poderia chegar a 35%), passar a cobrar IR sobre lucros e dividendos e ate rever desoneracoes. As medidas precisam ser aprovadas pelo Congresso por meio de projeto de lei e teriam efeito sobre as contas de 2018.     De acordo com o jornal \"O Globo\", ha pouco folego do presidente para conseguir concretizar medidas impopulares como essa, e a que teria \"maior potencial de arrecadacao seria a instituicao de uma tributacao sobre lucros e dividendos, superando R$ 10 bilhoes\".     No mesmo evento, o presidente da Camara dos Deputados, Rodrigo Maia (DEM), falou que \"o Brasil nao aguenta mais pagar impostos\". \"O Brasil nao aguenta mais a ineficiencia do estado brasileiro. O Brasil precisa que todos nos, juntos, tenhamos a coragem de reconstruir todos os males que foram feitos nos ultimos anos\", disse.    Medidas que voltaram a mesa de discussao:   Criacao de uma nova aliquota de imposto de renda para pessoa fisica - que poderia variar de 30% a 35% para salarios acima de R$ 20 mil Cobranca de Imposto sobre os Dividendos - os rendimentos de empresas que declaram sobre o lucro presumidoRevisao de desoneracoesRegimes especiais, como o reintegra, que concentra os beneficios em um pequeno numero de empresas                Temer cercado pelo presidente da Camara, Rodrigo Maia, e pelo governador de Sao Paulo, Geraldo Alckmin (Foto: Alan Santos/Presidencia da Republica)          Em discurso na cerimonia de abertura do 27o Congresso & ExpoFenabrave, na capital paulista, o presidente afirmou que aprovar a reforma neste momento e uma maneira de assegurar que havera aposentadorias sociais no futuro.     \"Fazer a Previdencia reformada hoje e ter Previdencia para o futuro. E prever o futuro. Esta e a ideia da Previdencia. Ou seja, em um pais em que este ano o deficit previdenciario e de R$ 184 bilhoes e, no ano que vem, de R$ 205 bilhoes, se nos nao fizermos essa reforma, sera dificilimo enfrentar os proximos anos\", ressaltou Temer no evento organizado pela federacao dos bancos para discutir tecnologia da informacao das instituicoes financeiras.     Rodrigo Maia (DEM-RJ) tambem defendeu as mudancas - ele disse em discurso que o \"coracao das reformas\" que o pais precisa e a da Previdencia e que so ela podera \"acabar com os privilegios\".     \"E por isso que eu tenho defendido com muita clareza que o coracao de todas as reformas e a reforma da Previdencia. Nao porque nenhum de nos queira ou porque nos estamos tirando o direito do trabalhador brasileiro, mas nos precisamos acabar com os privilegios no Brasil\", disse. \"Os privilegios, tanto do setor publico quanto do setor privado, que nos sabemos, se beneficiam do estado brasileiro, e nao querem mudancas\", completou Maia.      Maia tambem criticou o que chamou de \"ineficiencia do estado brasileiro\" e afirmou que o pais \"nao aguenta mais pagar impostos\". Ele defendeu que apos a reforma tributaria se diminua o tamanho do estado.     \"Esse tem que ser o objetivo dos politicos no Brasil: reduzir o tamanho do estado, garantir seguranca juridica para que voces (empresarios) possam produzir e gerar emprego pra populacao brasileira\", declarou.    \n",
      "\n",
      "                     LABEL  PROBABILITY\n",
      "0               Tributação     0.127870\n",
      "1  Relações Internacionais     0.104859\n",
      "2     Viação e Transportes     0.049618 \n",
      "\n",
      "Wall time: 902 ms\n",
      "Wall time: 4.34 s\n",
      "\n",
      "\n",
      "\n",
      "  TOP TERMS  TF_IDF SCORE\n",
      "0     disse      0.200537\n",
      "1        ha      0.141243\n",
      "2   estudos      0.136540\n",
      "3      maia      0.134054\n",
      "4   afirmou      0.131234\n",
      "5   ha nada      0.131234\n",
      "6     temer      0.129912\n",
      "7        ir      0.119939\n",
      "8   rodrigo      0.113381\n",
      "9  aliquota      0.102192\n"
     ]
    }
   ],
   "source": [
    "url = 'http://g1.globo.com/sao-paulo/noticia/temer-diz-que-governo-estuda-aumento-da-aliquota-do-ir-mas-que-ainda-nao-ha-nada-decidido.ghtml'\n",
    "%time preds, text = predict_labels_url(clf, temas, url, verbose=True)\n",
    "%time terms = top_terms(clf, text)\n",
    "print('\\n\\n')\n",
    "print(terms)"
   ]
  },
  {
   "cell_type": "code",
   "execution_count": 18,
   "metadata": {
    "collapsed": false
   },
   "outputs": [
    {
     "name": "stdout",
     "output_type": "stream",
     "text": [
      "Text:\n",
      "\n",
      "\n",
      "\n",
      "Lucio Bernardo Junior / Camara dos Deputados\n",
      "\n",
      "Mara Gabrilli:  as limitacoes tipicas do envelhecimento aparecem antes nas pessoas com deficiencia\n",
      "\n",
      "A Comissao de Defesa dos Direitos das Pessoas com Deficiencia aprovou proposta (PL 1118/11) que altera a idade para que a pessoa com deficiencia seja considerada idosa. Pelo texto aprovado, a pessoa com deficiencia passara a ser considerada idosa aos 50 anos.  \n",
      "\n",
      "A proposta permite ainda a reducao desse limite, mediante avaliacao da deficiencia, feita a partir de laudos biopsicossociais. Os laudos deverao ser elaborados por medicos juntamente com especialistas que avaliam as barreiras sociais e psicologicas enfrentadas pela pessoa.\n",
      "O texto original, do deputado Eduardo Barbosa (PSDB-MG), estabelecia a idade em 45 anos, mas o projeto foi alterado pela relatora na Comissao de Seguridade Social, deputada Carmen Zanotto (PPS-SC), para os 50 anos. Na Comissao de Defesa dos Direitos das Pessoas com Deficiencia a relatora, deputada Mara Gabrilli (PSDB-SP), manteve as alteracoes do substitutivo de Zanotto.\n",
      "Para Gabrilli, projeto de lei ameniza as restricoes ambientais e sociais que impedem a plena participacao da pessoa com deficiencia, proporcionando melhoria nos padroes de vida que, em ultima instancia, reduzem as possibilidades de agravamento das limitacoes.\n",
      "\"Em suma, as limitacoes tipicas do envelhecimento aparecem antes nas pessoas com deficiencia. Alem disso, o envelhecimento impoe obstaculos superiores as pessoas com deficiencia em relacao as demais\", afirma a deputada.\n",
      "\n",
      "Tramitacao\n",
      "A proposta que altera a idade para que a pessoa com deficiencia seja considerada idosa segue agora para analise da Comissao de Constituicao e Justica e tem carater conclusivo.\n",
      "\n",
      "\t\t\t\t\t\n",
      "\n",
      "                                    LABEL  PROBABILITY\n",
      "0  Direitos Humanos, Minorias e Cidadania     0.440917\n",
      "1                   Administração Pública     0.043851\n",
      "2                    Processo Legislativo     0.042497 \n",
      "\n",
      "Wall time: 697 ms\n",
      "Wall time: 4.18 s\n",
      "\n",
      "\n",
      "\n",
      "         TOP TERMS  TF_IDF SCORE\n",
      "0  com deficiencia      0.339010\n",
      "1      deficiencia      0.327722\n",
      "2      pessoas com      0.182542\n",
      "3   envelhecimento      0.171066\n",
      "4       pessoa com      0.167184\n",
      "5            idosa      0.152612\n",
      "6         deputada      0.144467\n",
      "7       tipicas do      0.132910\n",
      "8          50 anos      0.132910\n",
      "9         relatora      0.132910\n"
     ]
    }
   ],
   "source": [
    "url = 'http://www2.camara.leg.br/camaranoticias/noticias/DIREITOS-HUMANOS/538744-COMISSAO-REDUZ-IDADE-PARA-PESSOA-COM-DEFICIENCIA-SER-DECLARADA-IDOSA.html'\n",
    "%time preds, text = predict_labels_url(clf, temas, url, verbose=True)\n",
    "%time terms = top_terms(clf, text)\n",
    "print('\\n\\n')\n",
    "print(terms)"
   ]
  },
  {
   "cell_type": "code",
   "execution_count": 19,
   "metadata": {
    "collapsed": false
   },
   "outputs": [
    {
     "name": "stdout",
     "output_type": "stream",
     "text": [
      "Text:\n",
      "\n",
      "\n",
      "\n",
      "Edvaldo Belitardo / Camara dos Deputados\n",
      "\n",
      "Felipe Bornier propos o piso salarial para os garcons profissionais\n",
      "\n",
      "A Comissao de Trabalho, de Administracao e Servico Publico aprovou, com duas emendas, proposta que regulamenta a profissao de garcom - reconhecido no texto como aquele que, em estabelecimentos do ramo de hoteis, restaurantes, bares e similares, exerce a funcao de servir alimentos e bebidas a clientes.\n",
      "O texto aprovado assegura ao garcom o direito a um piso salarial no valor de R$ 2.811,00, para uma jornada de 8 horas diarias, devendo as horas extraordinarias serem pagas com 50% de acrescimo sobre o salario legal ou contratual.\n",
      "O texto original - Projeto de Lei 6227/13, do deputado Wilson Filho (PMDB-PB) - previa um piso salarial de tres salarios minimos e horas extras pagas com acrescimo de 30%.\n",
      "Duas emendas\n",
      "Ao analisar a proposta, no entanto, o relator na comissao, deputado Felipe Bornier (Pros-RJ), apresentou duas emendas. Bornier lembrou que a Constituicao Federal e clara quanto a impossibilidade de se vincular qualquer remuneracao ao salario minimo.\n",
      "\"Levando em consideracao o montante proposto (tres salarios minimos) e o valor atual (R$ 937,00), propomos o piso de R$ 2.811\", afirmou.\n",
      "A segunda emenda tambem se baseia na Constituicao, que Ja garante aos trabalhadores \"remuneracao do servico extraordinario superior, no minimo, em cinquenta por cento a do normal\".\n",
      "O texto aprovado preve ainda que os servicos prestados pelo garcom entre 19hs e 6hs serao remunerados com 30% de acrescimo sobre o salario legal ou contratual.\n",
      "Gorjeta\n",
      "O texto institucionaliza a conhecida \"gorjeta\", como um adicional nunca inferior a 10% do valor da conta dos clientes, devendo ser distribuido entre os empregados que trabalham no mesmo horario.\n",
      "Para exercer a atividade, a proposta exige registro profissional a partir dos seguintes documentos: registro geral; carteira de trabalho; atestado medico comprovando que o interessado nao e portador de molestia infectocontagiosa; prova de quitacao com o servico militar.\n",
      "Veto\n",
      "Em 2015, a presidente Dilma Rousseff vetou projeto semelhante, que tambem regulamenta a profissao de garcom. Dilma considerou a proposta inconstitucional, por restringir o exercicio profissional.\n",
      "A presidente afirmou a epoca que a Constituicao assegura o livre exercicio de qualquer trabalho, oficio ou profissao, cabendo a imposicao de restricoes apenas quando houver a possibilidade de ocorrer dano a sociedade.\n",
      "Tramitacao\n",
      "O projeto e as duas emendas serao ainda analisados conclusivamente pela Comissao de Constituicao e Justica e de Cidadania.\n",
      "\n",
      "\t\t\t\t\t\n",
      "\n",
      "                     LABEL  PROBABILITY\n",
      "0       Trabalho e Emprego     0.601329\n",
      "1    Administração Pública     0.037124\n",
      "2  Relações Internacionais     0.032458 \n",
      "\n",
      "Wall time: 621 ms\n",
      "Wall time: 4.1 s\n",
      "\n",
      "\n",
      "\n",
      "               TOP TERMS  TF_IDF SCORE\n",
      "0           duas emendas      0.237887\n",
      "1                   piso      0.183349\n",
      "2          piso salarial      0.151964\n",
      "3  regulamenta profissao      0.130203\n",
      "4                afirmou      0.125221\n",
      "5        acrescimo sobre      0.125221\n",
      "6                emendas      0.119785\n",
      "7                 de 811      0.116703\n",
      "8                  texto      0.115865\n",
      "9         texto aprovado      0.108186\n"
     ]
    }
   ],
   "source": [
    "url = 'http://www2.camara.leg.br/camaranoticias/noticias/TRABALHO-E-PREVIDENCIA/538706-COMISSAO-DE-TRABALHO-APROVA-A-REGULAMENTACAO-DA-PROFISSAO-DE-GARCOM-COM-PISO-SALARIAL-DE-R$-2.811.html'\n",
    "%time preds, text = predict_labels_url(clf, temas, url, verbose=True)\n",
    "%time terms = top_terms(clf, text)\n",
    "print('\\n\\n')\n",
    "print(terms)"
   ]
  }
 ],
 "metadata": {
  "kernelspec": {
   "display_name": "Python (tensorflow)",
   "language": "python",
   "name": "tensorflow"
  },
  "language_info": {
   "codemirror_mode": {
    "name": "ipython",
    "version": 3
   },
   "file_extension": ".py",
   "mimetype": "text/x-python",
   "name": "python",
   "nbconvert_exporter": "python",
   "pygments_lexer": "ipython3",
   "version": "3.5.2"
  }
 },
 "nbformat": 4,
 "nbformat_minor": 2
}
