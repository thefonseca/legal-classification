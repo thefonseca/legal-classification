{
 "cells": [
  {
   "cell_type": "markdown",
   "metadata": {},
   "source": [
    "# Classificação de documentos - bag-of-words\n",
    "\n",
    "Este documento implementa um pipeline para classificação de documentos usando [técnicas \"tradicionais\" de machine learning com a biblioteca scikit-learn](http://scikit-learn.org/stable/tutorial/text_analytics/working_with_text_data.html).\n",
    "\n",
    "### Referências\n",
    "* [Classification of text documents using sparse features](http://scikit-learn.org/stable/auto_examples/text/document_classification_20newsgroups.html)\n",
    "* [Text Classification with NLTK and Scikit-Learn](http://bbengfort.github.io/tutorials/2016/05/19/text-classification-nltk-sckit-learn.html)\n",
    "* [Working With Text Data](http://scikit-learn.org/stable/tutorial/text_analytics/working_with_text_data.html)\n",
    "* [Analyzing tf-idf results in scikit-learn](https://buhrmann.github.io/tfidf-analysis.html)"
   ]
  },
  {
   "cell_type": "markdown",
   "metadata": {},
   "source": [
    "### Importando bibliotecas"
   ]
  },
  {
   "cell_type": "code",
   "execution_count": 157,
   "metadata": {
    "collapsed": false
   },
   "outputs": [],
   "source": [
    "%reload_ext autoreload\n",
    "%autoreload 1\n",
    "\n",
    "%aimport dataset\n",
    "\n",
    "import numpy as np\n",
    "import scipy.sparse as sp\n",
    "import pandas as pd\n",
    "import random\n",
    "\n",
    "from sklearn.feature_extraction.text import TfidfVectorizer, CountVectorizer, TfidfTransformer\n",
    "from sklearn.linear_model import SGDClassifier\n",
    "from sklearn.svm import LinearSVC\n",
    "from sklearn.metrics import confusion_matrix\n",
    "from sklearn.metrics import classification_report\n",
    "from sklearn.pipeline import Pipeline\n",
    "from sklearn.model_selection import train_test_split\n",
    "from sklearn.model_selection import cross_val_predict, cross_val_score, GridSearchCV"
   ]
  },
  {
   "cell_type": "markdown",
   "metadata": {},
   "source": [
    "### Carregando dados de normas"
   ]
  },
  {
   "cell_type": "code",
   "execution_count": 2,
   "metadata": {
    "collapsed": false,
    "scrolled": true
   },
   "outputs": [
    {
     "name": "stdout",
     "output_type": "stream",
     "text": [
      "Carregando normas...\n",
      "257178 documentos\n",
      "43 categorias\n"
     ]
    }
   ],
   "source": [
    "print(\"Carregando normas...\")\n",
    "normas = pd.read_csv('data/normas.csv')\n",
    "print(\"%d documentos\" % normas.shape[0])\n",
    "print(\"%d categorias\" % len(normas.IDETEMA.unique()))"
   ]
  },
  {
   "cell_type": "markdown",
   "metadata": {},
   "source": [
    "### Selecionando normas com tema associado"
   ]
  },
  {
   "cell_type": "code",
   "execution_count": 3,
   "metadata": {
    "collapsed": false
   },
   "outputs": [
    {
     "name": "stdout",
     "output_type": "stream",
     "text": [
      "32681 normas com tema\n",
      "42 categorias\n"
     ]
    }
   ],
   "source": [
    "normas_com_tema = normas[normas.IDETEMA.notnull()].copy()\n",
    "print(\"%d normas com tema\" % normas_com_tema.shape[0])\n",
    "print(\"%d categorias\" % len(normas_com_tema.CLASS.unique()))"
   ]
  },
  {
   "cell_type": "markdown",
   "metadata": {},
   "source": [
    "### Tratamento de temas obsoletos"
   ]
  },
  {
   "cell_type": "code",
   "execution_count": 4,
   "metadata": {
    "collapsed": false,
    "scrolled": false
   },
   "outputs": [
    {
     "name": "stdout",
     "output_type": "stream",
     "text": [
      "32681 normas com tema\n",
      "39 categorias\n"
     ]
    },
    {
     "data": {
      "text/html": [
       "<div>\n",
       "<table border=\"1\" class=\"dataframe\">\n",
       "  <thead>\n",
       "    <tr style=\"text-align: right;\">\n",
       "      <th></th>\n",
       "      <th>IDENORMA</th>\n",
       "      <th>IDETIPONORMA</th>\n",
       "      <th>IDESITUACAONORMA</th>\n",
       "      <th>TEXNUMERONORMA</th>\n",
       "      <th>ANONORMA</th>\n",
       "      <th>NUMSESSAOLEGISLATIVA</th>\n",
       "      <th>DATASSINATURA</th>\n",
       "      <th>TEXAPELIDO</th>\n",
       "      <th>TEXCOLECAO</th>\n",
       "      <th>TEXORIGENS</th>\n",
       "      <th>TEXSIGLASORIGENS</th>\n",
       "      <th>TEXEPIGRAFE</th>\n",
       "      <th>TEXEPIGRAFEREFERENCIA</th>\n",
       "      <th>NOMTIPONORMA</th>\n",
       "      <th>SIGTIPONORMA</th>\n",
       "      <th>TEXTO</th>\n",
       "      <th>INDEXACAO</th>\n",
       "      <th>IDETEMA</th>\n",
       "      <th>TEMA</th>\n",
       "      <th>CLASS</th>\n",
       "    </tr>\n",
       "  </thead>\n",
       "  <tbody>\n",
       "    <tr>\n",
       "      <th>12</th>\n",
       "      <td>609841</td>\n",
       "      <td>33828</td>\n",
       "      <td>NaN</td>\n",
       "      <td>54560</td>\n",
       "      <td>2010</td>\n",
       "      <td>NaN</td>\n",
       "      <td>2010-12-27 00:00:00</td>\n",
       "      <td>NaN</td>\n",
       "      <td>Legislação Superior</td>\n",
       "      <td>Poder Executivo</td>\n",
       "      <td>PE</td>\n",
       "      <td>Decreto de 27 de Dezembro de 2010</td>\n",
       "      <td>Decreto  de 27 de Dezembro de 2010</td>\n",
       "      <td>Decreto Sem Número</td>\n",
       "      <td>decret_sn</td>\n",
       "      <td>O PRESIDENTE DA REPUBLICA, no uso ...</td>\n",
       "      <td>REFORMA AGRARIA - Imovel rural - Desapropriaca...</td>\n",
       "      <td>51.0</td>\n",
       "      <td>Política Fundiária</td>\n",
       "      <td>27</td>\n",
       "    </tr>\n",
       "    <tr>\n",
       "      <th>45</th>\n",
       "      <td>605183</td>\n",
       "      <td>33823</td>\n",
       "      <td>NaN</td>\n",
       "      <td>7149</td>\n",
       "      <td>2010</td>\n",
       "      <td>NaN</td>\n",
       "      <td>2010-04-08 00:00:00</td>\n",
       "      <td>NaN</td>\n",
       "      <td>Legislação Superior</td>\n",
       "      <td>Poder Executivo</td>\n",
       "      <td>PE</td>\n",
       "      <td>Decreto nº 7.149, de 8 de Abril de 2010</td>\n",
       "      <td>Decreto nº 7149 de 8 de Abril de 2010</td>\n",
       "      <td>Decreto</td>\n",
       "      <td>decret</td>\n",
       "      <td>O PRESIDENTE DA REPUBLICA,...</td>\n",
       "      <td>ATOS INTERNACIONAIS - Republica Democratica do...</td>\n",
       "      <td>55.0</td>\n",
       "      <td>Relações Internacionais</td>\n",
       "      <td>31</td>\n",
       "    </tr>\n",
       "    <tr>\n",
       "      <th>54</th>\n",
       "      <td>599446</td>\n",
       "      <td>33823</td>\n",
       "      <td>NaN</td>\n",
       "      <td>7059</td>\n",
       "      <td>2009</td>\n",
       "      <td>NaN</td>\n",
       "      <td>2009-12-29 00:00:00</td>\n",
       "      <td>NaN</td>\n",
       "      <td>Legislação Superior</td>\n",
       "      <td>Poder Executivo</td>\n",
       "      <td>PE</td>\n",
       "      <td>Decreto nº 7.059, de 29 de Dezembro de 2009</td>\n",
       "      <td>Decreto nº 7059 de 29 de Dezembro de 2009</td>\n",
       "      <td>Decreto</td>\n",
       "      <td>decret</td>\n",
       "      <td>O PRESIDENTE DA RE...</td>\n",
       "      <td>SEGURO RURAL - Subvencao economica - Premio - ...</td>\n",
       "      <td>51.0</td>\n",
       "      <td>Política Fundiária</td>\n",
       "      <td>27</td>\n",
       "    </tr>\n",
       "    <tr>\n",
       "      <th>74</th>\n",
       "      <td>609851</td>\n",
       "      <td>33828</td>\n",
       "      <td>NaN</td>\n",
       "      <td>54565</td>\n",
       "      <td>2010</td>\n",
       "      <td>NaN</td>\n",
       "      <td>2010-12-27 00:00:00</td>\n",
       "      <td>NaN</td>\n",
       "      <td>Legislação Superior</td>\n",
       "      <td>Poder Executivo</td>\n",
       "      <td>PE</td>\n",
       "      <td>Decreto de 27 de Dezembro de 2010</td>\n",
       "      <td>Decreto  de 27 de Dezembro de 2010</td>\n",
       "      <td>Decreto Sem Número</td>\n",
       "      <td>decret_sn</td>\n",
       "      <td>O PRESIDENTE DA REPUBLICA,...</td>\n",
       "      <td>REFORMA AGRARIA - Imovel rural - Desapropriaca...</td>\n",
       "      <td>51.0</td>\n",
       "      <td>Política Fundiária</td>\n",
       "      <td>27</td>\n",
       "    </tr>\n",
       "    <tr>\n",
       "      <th>85</th>\n",
       "      <td>775237</td>\n",
       "      <td>33823</td>\n",
       "      <td>NaN</td>\n",
       "      <td>7906</td>\n",
       "      <td>2013</td>\n",
       "      <td>NaN</td>\n",
       "      <td>2013-02-04 00:00:00</td>\n",
       "      <td>NaN</td>\n",
       "      <td>Legislação Superior</td>\n",
       "      <td>Poder Executivo</td>\n",
       "      <td>PE</td>\n",
       "      <td>Decreto nº 7.906, de 4 de Fevereiro de 2013</td>\n",
       "      <td>Decreto nº 7906 de 4 de Fevereiro de 2013</td>\n",
       "      <td>Decreto</td>\n",
       "      <td>decret</td>\n",
       "      <td>A PRESIDENTA DA REPUBLICA, no uso da atri...</td>\n",
       "      <td>ATOS INTERNACIONAIS - Reino dos Paises Baixos ...</td>\n",
       "      <td>43.0</td>\n",
       "      <td>Direito Penal e Processual Penal</td>\n",
       "      <td>15</td>\n",
       "    </tr>\n",
       "  </tbody>\n",
       "</table>\n",
       "</div>"
      ],
      "text/plain": [
       "    IDENORMA  IDETIPONORMA  IDESITUACAONORMA TEXNUMERONORMA  ANONORMA  \\\n",
       "12    609841         33828               NaN          54560      2010   \n",
       "45    605183         33823               NaN           7149      2010   \n",
       "54    599446         33823               NaN           7059      2009   \n",
       "74    609851         33828               NaN          54565      2010   \n",
       "85    775237         33823               NaN           7906      2013   \n",
       "\n",
       "    NUMSESSAOLEGISLATIVA        DATASSINATURA TEXAPELIDO           TEXCOLECAO  \\\n",
       "12                   NaN  2010-12-27 00:00:00        NaN  Legislação Superior   \n",
       "45                   NaN  2010-04-08 00:00:00        NaN  Legislação Superior   \n",
       "54                   NaN  2009-12-29 00:00:00        NaN  Legislação Superior   \n",
       "74                   NaN  2010-12-27 00:00:00        NaN  Legislação Superior   \n",
       "85                   NaN  2013-02-04 00:00:00        NaN  Legislação Superior   \n",
       "\n",
       "         TEXORIGENS TEXSIGLASORIGENS  \\\n",
       "12  Poder Executivo               PE   \n",
       "45  Poder Executivo               PE   \n",
       "54  Poder Executivo               PE   \n",
       "74  Poder Executivo               PE   \n",
       "85  Poder Executivo               PE   \n",
       "\n",
       "                                    TEXEPIGRAFE  \\\n",
       "12            Decreto de 27 de Dezembro de 2010   \n",
       "45      Decreto nº 7.149, de 8 de Abril de 2010   \n",
       "54  Decreto nº 7.059, de 29 de Dezembro de 2009   \n",
       "74            Decreto de 27 de Dezembro de 2010   \n",
       "85  Decreto nº 7.906, de 4 de Fevereiro de 2013   \n",
       "\n",
       "                        TEXEPIGRAFEREFERENCIA        NOMTIPONORMA  \\\n",
       "12         Decreto  de 27 de Dezembro de 2010  Decreto Sem Número   \n",
       "45      Decreto nº 7149 de 8 de Abril de 2010             Decreto   \n",
       "54  Decreto nº 7059 de 29 de Dezembro de 2009             Decreto   \n",
       "74         Decreto  de 27 de Dezembro de 2010  Decreto Sem Número   \n",
       "85  Decreto nº 7906 de 4 de Fevereiro de 2013             Decreto   \n",
       "\n",
       "   SIGTIPONORMA                                              TEXTO  \\\n",
       "12    decret_sn              O PRESIDENTE DA REPUBLICA, no uso ...   \n",
       "45       decret                      O PRESIDENTE DA REPUBLICA,...   \n",
       "54       decret                              O PRESIDENTE DA RE...   \n",
       "74    decret_sn                      O PRESIDENTE DA REPUBLICA,...   \n",
       "85       decret       A PRESIDENTA DA REPUBLICA, no uso da atri...   \n",
       "\n",
       "                                            INDEXACAO  IDETEMA  \\\n",
       "12  REFORMA AGRARIA - Imovel rural - Desapropriaca...     51.0   \n",
       "45  ATOS INTERNACIONAIS - Republica Democratica do...     55.0   \n",
       "54  SEGURO RURAL - Subvencao economica - Premio - ...     51.0   \n",
       "74  REFORMA AGRARIA - Imovel rural - Desapropriaca...     51.0   \n",
       "85  ATOS INTERNACIONAIS - Reino dos Paises Baixos ...     43.0   \n",
       "\n",
       "                                TEMA  CLASS  \n",
       "12                Política Fundiária     27  \n",
       "45           Relações Internacionais     31  \n",
       "54                Política Fundiária     27  \n",
       "74                Política Fundiária     27  \n",
       "85  Direito Penal e Processual Penal     15  "
      ]
     },
     "execution_count": 4,
     "metadata": {},
     "output_type": "execute_result"
    }
   ],
   "source": [
    "def merge_labels(data, new_label, old_label):\n",
    "    old_class = data[data.TEMA == old_label].CLASS\n",
    "    \n",
    "    if len(old_class) > 0:\n",
    "        old_class = old_class.values[0]\n",
    "        new_class = data[data.TEMA == new_label].CLASS.values[0]\n",
    "        data['TEMA'] = data.TEMA.map(lambda x: new_label if x == old_label else x)\n",
    "        data['CLASS'] = data.CLASS.map(lambda x: new_class if x == old_class else x)\n",
    "        sorted_classes = np.sort(data.CLASS.unique())\n",
    "        data['CLASS'] = data['CLASS'].map(lambda x: np.where(sorted_classes == x)[0][0])\n",
    "    \n",
    "merge_labels(normas_com_tema, 'Ciência e Tecnologia', 'Ciência, Tecnologia e Informática')\n",
    "merge_labels(normas_com_tema, 'Indústria, Comércio e Abastecimento', 'Indústria, Comércio e Defesa do Consumidor')\n",
    "merge_labels(normas_com_tema, 'Organização Administrativa do Estado', 'Organização Político-Administrativa do Estado')\n",
    "print(\"%d normas com tema\" % normas_com_tema.shape[0])\n",
    "print(\"%d categorias\" % len(normas_com_tema.CLASS.unique()))\n",
    "normas_com_tema.head()"
   ]
  },
  {
   "cell_type": "markdown",
   "metadata": {},
   "source": [
    "### Salvando tabela de temas"
   ]
  },
  {
   "cell_type": "code",
   "execution_count": 175,
   "metadata": {
    "collapsed": false
   },
   "outputs": [],
   "source": [
    "temas = normas_com_tema[['TEMA', 'CLASS']].drop_duplicates().sort_values('CLASS')\n",
    "temas.to_csv('models/temas.csv', index=False, encoding='utf-8')"
   ]
  },
  {
   "cell_type": "markdown",
   "metadata": {},
   "source": [
    "### Train/test split"
   ]
  },
  {
   "cell_type": "code",
   "execution_count": 170,
   "metadata": {
    "collapsed": false
   },
   "outputs": [
    {
     "name": "stdout",
     "output_type": "stream",
     "text": [
      "Train samples: 29412\n",
      "Test samples: 3269\n",
      "Labels: 39\n"
     ]
    }
   ],
   "source": [
    "X_train, X_test, y_train, y_test = train_test_split(normas_com_tema.TEXTO, normas_com_tema.CLASS, \n",
    "                                                    test_size=0.1, random_state=42, stratify=normas_com_tema.CLASS)\n",
    "\n",
    "print('Train samples:', X_train.shape[0])\n",
    "print('Test samples:', X_test.shape[0])\n",
    "print('Labels:', len(y_train.unique()))"
   ]
  },
  {
   "cell_type": "markdown",
   "metadata": {},
   "source": [
    "### Treinamento e avaliação do modelo"
   ]
  },
  {
   "cell_type": "code",
   "execution_count": 171,
   "metadata": {
    "collapsed": true
   },
   "outputs": [],
   "source": [
    "def train(X_train, y_train, grid_search=True, cv=3):\n",
    "\n",
    "    pipeline = Pipeline([\n",
    "        #('vect', CountVectorizer(ngram_range=(1, 2), max_df=0.75)),\n",
    "        #('tfidf', TfidfTransformer()),\n",
    "        ('tfidf', TfidfVectorizer(ngram_range=(1, 2), max_df=0.75)),\n",
    "        ('clf', SGDClassifier(class_weight='balanced', \n",
    "                              loss='log', n_jobs=2, n_iter=50,\n",
    "                              alpha=1e-5)),\n",
    "    ])\n",
    "\n",
    "    if grid_search:\n",
    "    \n",
    "        # uncommenting more parameters will give better exploring power but will\n",
    "        # increase processing time in a combinatorial way\n",
    "        parameters = {\n",
    "            'vect__max_df': (0.5, 0.75, 1.0),\n",
    "            #'vect__max_features': (None, 5000, 10000, 50000),\n",
    "            #'vect__ngram_range': ((1, 1), (1, 2)),  # unigrams or bigrams\n",
    "            #'tfidf__use_idf': (True, False),\n",
    "            #'tfidf__norm': ('l1', 'l2'),\n",
    "            'clf__alpha': (0.00001, 0.000001),\n",
    "            'clf__penalty': ('l2', 'elasticnet'),\n",
    "            #'clf__n_iter': (10, 50, 80),\n",
    "        }\n",
    "\n",
    "        # find the best parameters for both the feature extraction and the\n",
    "        # classifier\n",
    "        grid_search = GridSearchCV(pipeline, parameters, n_jobs=-1, verbose=1, cv=cv)\n",
    "\n",
    "        print(\"Performing grid search...\")\n",
    "        print(\"pipeline:\", [name for name, _ in pipeline.steps])\n",
    "        print(\"parameters:\")\n",
    "        print(parameters)\n",
    "\n",
    "        grid_search.fit(X_train, y_train)\n",
    "\n",
    "        print(\"Best score: %0.3f\" % grid_search.best_score_)\n",
    "        print(\"Best parameters set:\")\n",
    "        best_parameters = grid_search.best_estimator_.get_params()\n",
    "        for param_name in sorted(parameters.keys()):\n",
    "            print(\"\\t%s: %r\" % (param_name, best_parameters[param_name]))\n",
    "\n",
    "        return grid_search\n",
    "    \n",
    "    else:\n",
    "        pipeline.fit(X_train, y_train)\n",
    "        scores = cross_val_score(pipeline, X_train, y_train, cv=cv)\n",
    "        print(\"Scores: \", scores)\n",
    "        return pipeline\n",
    "\n",
    "\n",
    "def evaluate(clf, X_test, y_test, top_k=3, confusion=False):\n",
    "        \n",
    "    print(\"Predicting the outcomes of the testing set\")\n",
    "\n",
    "    pred = clf.predict(X_test)\n",
    "    \n",
    "    print(\"Classification report on test set for classifier:\")\n",
    "    #print(clf)\n",
    "    print()\n",
    "    print(classification_report(y_test, pred))\n",
    "    \n",
    "    if confusion:\n",
    "        print()\n",
    "        print(\"Confusion matrix:\")\n",
    "        print(confusion_matrix(y_test, pred))\n",
    "    \n",
    "    probs = clf.predict_proba(X_test)\n",
    "    best_k = np.argsort(probs, axis=1)[:,-top_k:]\n",
    "    pred_k = [y_true if y_true in pred else pred[-1] for y_true, pred in zip(y_test, best_k)]\n",
    "\n",
    "    print()\n",
    "    print(\"Classification report on test set - TOP\", top_k)\n",
    "    #print(clf)\n",
    "    print()\n",
    "    print(classification_report(y_test, pred_k))\n",
    "    \n",
    "    if confusion:\n",
    "        print()\n",
    "        print(\"Confusion matrix - TOP\", top_k)\n",
    "        print(confusion_matrix(y_test, pred_k))"
   ]
  },
  {
   "cell_type": "code",
   "execution_count": 172,
   "metadata": {
    "collapsed": false
   },
   "outputs": [
    {
     "name": "stdout",
     "output_type": "stream",
     "text": [
      "Scores:  [ 0.70044816  0.70692645  0.69839649]\n",
      "Wall time: 16min 15s\n"
     ]
    }
   ],
   "source": [
    "%%time\n",
    "clf = train(X_train, y_train, grid_search=False)"
   ]
  },
  {
   "cell_type": "code",
   "execution_count": 173,
   "metadata": {
    "collapsed": false,
    "scrolled": false
   },
   "outputs": [
    {
     "name": "stdout",
     "output_type": "stream",
     "text": [
      "Predicting the outcomes of the testing set\n",
      "Classification report on test set for classifier:\n",
      "\n",
      "             precision    recall  f1-score   support\n",
      "\n",
      "          0       0.72      0.39      0.51       468\n",
      "          1       0.32      0.67      0.43        27\n",
      "          2       0.43      0.53      0.48        43\n",
      "          3       0.19      0.43      0.27        14\n",
      "          4       0.20      0.40      0.27         5\n",
      "          5       1.00      0.98      0.99       707\n",
      "          6       0.24      0.43      0.31        14\n",
      "          7       0.40      0.48      0.44        29\n",
      "          8       0.25      0.41      0.31        17\n",
      "          9       0.38      0.67      0.48        12\n",
      "         10       0.56      0.62      0.59        24\n",
      "         11       0.50      0.75      0.60         4\n",
      "         12       0.22      1.00      0.36         2\n",
      "         13       0.33      0.40      0.36         5\n",
      "         14       0.00      0.00      0.00         1\n",
      "         15       0.40      0.42      0.41        24\n",
      "         16       0.45      0.57      0.50        23\n",
      "         17       0.85      0.78      0.81       207\n",
      "         18       0.69      0.66      0.67        90\n",
      "         19       0.83      0.77      0.80       334\n",
      "         20       0.46      0.48      0.47        23\n",
      "         21       0.23      0.31      0.27        35\n",
      "         22       0.00      0.00      0.00         2\n",
      "         23       0.54      0.56      0.55        54\n",
      "         24       0.46      0.48      0.47       102\n",
      "         25       0.75      0.75      0.75         4\n",
      "         26       0.31      0.39      0.34        38\n",
      "         27       0.94      0.91      0.92       263\n",
      "         28       0.55      0.62      0.58        55\n",
      "         29       0.52      0.87      0.65        15\n",
      "         30       0.44      0.71      0.54        66\n",
      "         31       0.71      0.70      0.71       227\n",
      "         32       0.33      0.51      0.40        41\n",
      "         33       0.23      0.46      0.31        13\n",
      "         34       0.53      0.79      0.63        24\n",
      "         35       0.45      0.54      0.49        57\n",
      "         36       0.57      0.59      0.58       111\n",
      "         37       0.30      0.50      0.37         6\n",
      "         38       0.37      0.41      0.39        83\n",
      "\n",
      "avg / total       0.73      0.70      0.70      3269\n",
      "\n",
      "\n",
      "Classification report on test set - TOP 4\n",
      "\n",
      "             precision    recall  f1-score   support\n",
      "\n",
      "          0       0.97      0.94      0.96       468\n",
      "          1       0.71      0.93      0.81        27\n",
      "          2       0.95      0.91      0.93        43\n",
      "          3       0.63      0.86      0.73        14\n",
      "          4       1.00      0.60      0.75         5\n",
      "          5       1.00      0.98      0.99       707\n",
      "          6       0.72      0.93      0.81        14\n",
      "          7       0.93      0.90      0.91        29\n",
      "          8       0.82      0.82      0.82        17\n",
      "          9       0.83      0.83      0.83        12\n",
      "         10       0.79      0.79      0.79        24\n",
      "         11       1.00      1.00      1.00         4\n",
      "         12       1.00      1.00      1.00         2\n",
      "         13       0.80      0.80      0.80         5\n",
      "         14       0.00      0.00      0.00         1\n",
      "         15       0.88      0.92      0.90        24\n",
      "         16       0.95      0.91      0.93        23\n",
      "         17       0.96      0.94      0.95       207\n",
      "         18       0.91      0.92      0.92        90\n",
      "         19       0.96      0.96      0.96       334\n",
      "         20       0.95      0.91      0.93        23\n",
      "         21       0.68      0.77      0.72        35\n",
      "         22       0.50      0.50      0.50         2\n",
      "         23       0.91      0.93      0.92        54\n",
      "         24       0.92      0.96      0.94       102\n",
      "         25       0.75      0.75      0.75         4\n",
      "         26       0.85      0.89      0.87        38\n",
      "         27       0.99      0.96      0.98       263\n",
      "         28       0.92      0.85      0.89        55\n",
      "         29       0.94      1.00      0.97        15\n",
      "         30       0.91      0.88      0.89        66\n",
      "         31       0.95      0.98      0.96       227\n",
      "         32       0.82      0.80      0.81        41\n",
      "         33       0.67      0.92      0.77        13\n",
      "         34       1.00      1.00      1.00        24\n",
      "         35       0.86      0.89      0.88        57\n",
      "         36       0.89      0.97      0.93       111\n",
      "         37       0.80      0.67      0.73         6\n",
      "         38       0.94      0.87      0.90        83\n",
      "\n",
      "avg / total       0.95      0.94      0.94      3269\n",
      "\n",
      "Wall time: 16.6 s\n"
     ]
    },
    {
     "name": "stderr",
     "output_type": "stream",
     "text": [
      "C:\\Users\\p_7174\\AppData\\Local\\Continuum\\Anaconda3\\envs\\tensorflow\\lib\\site-packages\\sklearn\\metrics\\classification.py:1113: UndefinedMetricWarning: Precision and F-score are ill-defined and being set to 0.0 in labels with no predicted samples.\n",
      "  'precision', 'predicted', average, warn_for)\n"
     ]
    }
   ],
   "source": [
    "%%time\n",
    "evaluate(clf, X_test, y_test, top_k=4)"
   ]
  },
  {
   "cell_type": "markdown",
   "metadata": {},
   "source": [
    "### Salvando o modelo treinado"
   ]
  },
  {
   "cell_type": "code",
   "execution_count": 174,
   "metadata": {
    "collapsed": true
   },
   "outputs": [],
   "source": [
    "from sklearn.externals import joblib\n",
    "import os\n",
    "\n",
    "def save_model(model, path):\n",
    "    \n",
    "    if not os.path.exists(os.path.dirname(path)):\n",
    "        try:\n",
    "            os.makedirs(os.path.dirname(path))\n",
    "        except OSError as exc: # Guard against race condition\n",
    "            if exc.errno != errno.EEXIST:\n",
    "                raise\n",
    "\n",
    "    joblib.dump(model, path)\n",
    "    \n",
    "save_model(clf, 'models/bag-of-words-all-classes.pkl')"
   ]
  }
 ],
 "metadata": {
  "kernelspec": {
   "display_name": "Python (tensorflow)",
   "language": "python",
   "name": "tensorflow"
  },
  "language_info": {
   "codemirror_mode": {
    "name": "ipython",
    "version": 3
   },
   "file_extension": ".py",
   "mimetype": "text/x-python",
   "name": "python",
   "nbconvert_exporter": "python",
   "pygments_lexer": "ipython3",
   "version": "3.5.2"
  }
 },
 "nbformat": 4,
 "nbformat_minor": 2
}
